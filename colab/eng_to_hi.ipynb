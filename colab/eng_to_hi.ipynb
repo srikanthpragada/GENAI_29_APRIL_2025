{
  "nbformat": 4,
  "nbformat_minor": 0,
  "metadata": {
    "colab": {
      "provenance": []
    },
    "kernelspec": {
      "name": "python3",
      "display_name": "Python 3"
    },
    "language_info": {
      "name": "python"
    }
  },
  "cells": [
    {
      "cell_type": "code",
      "source": [
        "from huggingface_hub import InferenceClient"
      ],
      "metadata": {
        "id": "taQaBz2H6-KW"
      },
      "execution_count": 1,
      "outputs": []
    },
    {
      "cell_type": "code",
      "source": [
        "# Get HF Key\n",
        "from google.colab import userdata\n",
        "hugging_face_key = userdata.get('HF_TOKEN')"
      ],
      "metadata": {
        "id": "0mAmqT_E7HU2"
      },
      "execution_count": 2,
      "outputs": []
    },
    {
      "cell_type": "code",
      "execution_count": 3,
      "metadata": {
        "id": "Dl_dTlTg67iy"
      },
      "outputs": [],
      "source": [
        "model_id = \"Helsinki-NLP/opus-mt-en-hi\"\n",
        "client = InferenceClient(model=model_id, token= hugging_face_key)"
      ]
    },
    {
      "cell_type": "code",
      "source": [
        "hindi_translation = client.translation(\"Did you play cricket yesterday?\")"
      ],
      "metadata": {
        "id": "ybO_ONav7KuE"
      },
      "execution_count": 6,
      "outputs": []
    },
    {
      "cell_type": "code",
      "source": [
        "print(hindi_translation)"
      ],
      "metadata": {
        "colab": {
          "base_uri": "https://localhost:8080/"
        },
        "id": "S0tGJO6z7VbH",
        "outputId": "6ac1f9a5-bad2-436c-d303-2e6ba1e6e686"
      },
      "execution_count": 7,
      "outputs": [
        {
          "output_type": "stream",
          "name": "stdout",
          "text": [
            "TranslationOutput(translation_text='आप कल क्रिकेट खेलते थे?')\n"
          ]
        }
      ]
    },
    {
      "cell_type": "code",
      "source": [],
      "metadata": {
        "id": "u74NrTXw7YbV"
      },
      "execution_count": null,
      "outputs": []
    }
  ]
}